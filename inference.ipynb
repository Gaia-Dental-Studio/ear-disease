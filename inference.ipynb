{
 "cells": [
  {
   "cell_type": "code",
   "execution_count": 1,
   "metadata": {},
   "outputs": [
    {
     "name": "stderr",
     "output_type": "stream",
     "text": [
      "WARNING:absl:Compiled the loaded model, but the compiled metrics have yet to be built. `model.compile_metrics` will be empty until you train or evaluate the model.\n"
     ]
    }
   ],
   "source": [
    "import numpy as np\n",
    "import tensorflow as tf\n",
    "from tensorflow.keras.preprocessing.image import load_img, img_to_array\n",
    "from tensorflow.keras.models import load_model\n",
    "import os\n",
    "\n",
    "# Load the trained model\n",
    "model_path = \"./model/model.h5\"\n",
    "model = load_model(model_path)"
   ]
  },
  {
   "cell_type": "code",
   "execution_count": 2,
   "metadata": {},
   "outputs": [],
   "source": [
    "# Constants for preprocessing\n",
    "WIDTH = 150\n",
    "HEIGHT = 150\n",
    "\n",
    "# Define class labels in the same order as they were during training\n",
    "class_labels = ['Aom', 'Earwax', 'Normal', 'Others']  \n",
    "\n",
    "# Function to preprocess a single image\n",
    "def preprocess_image(image_path):\n",
    "    \"\"\"\n",
    "    Preprocess a single image for model inference.\n",
    "    Args:\n",
    "        image_path (str): Path to the image file.\n",
    "    Returns:\n",
    "        np.array: Preprocessed image array ready for prediction.\n",
    "    \"\"\"\n",
    "    # Load the image with the specified target size\n",
    "    img = load_img(image_path, target_size=(WIDTH, HEIGHT))\n",
    "    # Convert the image to an array\n",
    "    img_array = img_to_array(img)\n",
    "    # Normalize pixel values (rescale)\n",
    "    img_array = img_array / 255.0\n",
    "    # Add a batch dimension (required for model prediction)\n",
    "    img_array = np.expand_dims(img_array, axis=0)\n",
    "    return img_array\n",
    "\n",
    "# Function to make predictions\n",
    "def predict_image(image_path, class_labels):\n",
    "    \"\"\"\n",
    "    Predict the class of an image using the trained model.\n",
    "    Args:\n",
    "        image_path (str): Path to the image file.\n",
    "        class_labels (list): List of class labels in the same order as the model output.\n",
    "    Returns:\n",
    "        dict: Predicted class and confidence score.\n",
    "    \"\"\"\n",
    "    # Preprocess the image\n",
    "    preprocessed_image = preprocess_image(image_path)\n",
    "    # Make prediction\n",
    "    predictions = model.predict(preprocessed_image)\n",
    "    # Get the class index with the highest probability\n",
    "    predicted_index = np.argmax(predictions, axis=1)[0]\n",
    "    # Get the confidence score\n",
    "    confidence_score = predictions[0][predicted_index]\n",
    "    # Get the predicted class label\n",
    "    predicted_class = class_labels[predicted_index]\n",
    "    return {\n",
    "        \"predicted_class\": predicted_class,\n",
    "        \"confidence_score\": confidence_score\n",
    "    }\n"
   ]
  },
  {
   "cell_type": "code",
   "execution_count": 6,
   "metadata": {},
   "outputs": [
    {
     "name": "stdout",
     "output_type": "stream",
     "text": [
      "\u001b[1m1/1\u001b[0m \u001b[32m━━━━━━━━━━━━━━━━━━━━\u001b[0m\u001b[37m\u001b[0m \u001b[1m0s\u001b[0m 14ms/step\n",
      "Predicted Class: Normal\n",
      "Confidence Score: 0.97\n"
     ]
    }
   ],
   "source": [
    "# Example: Predict a single image\n",
    "# image_path = \"/Users/mauliana/Documents/Work/GAIA/code/datasets/sample/ear.png\" \n",
    "image_path = \"/Users/mauliana/Downloads/otitexterna_11.tiff\"  \n",
    "if os.path.exists(image_path):\n",
    "    result = predict_image(image_path, class_labels)\n",
    "    print(f\"Predicted Class: {result['predicted_class']}\")\n",
    "    print(f\"Confidence Score: {result['confidence_score']:.2f}\")\n",
    "else:\n",
    "    print(f\"Image not found: {image_path}\")"
   ]
  },
  {
   "cell_type": "code",
   "execution_count": null,
   "metadata": {},
   "outputs": [],
   "source": []
  }
 ],
 "metadata": {
  "kernelspec": {
   "display_name": "env_py",
   "language": "python",
   "name": "python3"
  },
  "language_info": {
   "codemirror_mode": {
    "name": "ipython",
    "version": 3
   },
   "file_extension": ".py",
   "mimetype": "text/x-python",
   "name": "python",
   "nbconvert_exporter": "python",
   "pygments_lexer": "ipython3",
   "version": "3.12.7"
  }
 },
 "nbformat": 4,
 "nbformat_minor": 2
}
